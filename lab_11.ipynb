{
  "nbformat": 4,
  "nbformat_minor": 0,
  "metadata": {
    "colab": {
      "provenance": [],
      "authorship_tag": "ABX9TyPRXHXlq3vO2fJig3g9oaKk",
      "include_colab_link": true
    },
    "kernelspec": {
      "name": "python3",
      "display_name": "Python 3"
    },
    "language_info": {
      "name": "python"
    }
  },
  "cells": [
    {
      "cell_type": "markdown",
      "metadata": {
        "id": "view-in-github",
        "colab_type": "text"
      },
      "source": [
        "<a href=\"https://colab.research.google.com/github/JuanRosales707/LAB_ROSALES_11/blob/main/lab_11.ipynb\" target=\"_parent\"><img src=\"https://colab.research.google.com/assets/colab-badge.svg\" alt=\"Open In Colab\"/></a>"
      ]
    },
    {
      "cell_type": "code",
      "source": [
        "import pandas as pd\n",
        "import numpy as np\n",
        "import seaborn as sns\n",
        "import matplotlib.pyplot as plt\n",
        "from sklearn.preprocessing import StandardScaler\n",
        "from scipy.spatial.distance import mahalanobis"
      ],
      "metadata": {
        "id": "rvskU-HcbMN8"
      },
      "execution_count": 12,
      "outputs": []
    },
    {
      "cell_type": "code",
      "source": [
        "URL = \"https://drive.google.com/file/d/1Gn2_7CGAX0D0M3Ka3JKSjlEdrWbKCxH0/view?usp=sharing\"\n",
        "URL = 'https://drive.google.com/uc?id=' + URL.split('/')[-2]\n"
      ],
      "metadata": {
        "id": "XVl9KDBFUvpD"
      },
      "execution_count": 4,
      "outputs": []
    },
    {
      "cell_type": "code",
      "source": [
        "df = pd.read_csv(URL)\n",
        "df.head()"
      ],
      "metadata": {
        "colab": {
          "base_uri": "https://localhost:8080/",
          "height": 206
        },
        "id": "Lb1lDX7yakM0",
        "outputId": "151c6402-c609-4d77-bd02-11230edb3d25"
      },
      "execution_count": 11,
      "outputs": [
        {
          "output_type": "execute_result",
          "data": {
            "text/plain": [
              "      TV  Radio  Newspaper  Sales\n",
              "0  230.1   37.8       69.2   22.1\n",
              "1   44.5   39.3       45.1   10.4\n",
              "2   17.2   45.9       69.3    9.3\n",
              "3  151.5   41.3       58.5   18.5\n",
              "4  180.8   10.8       58.4   12.9"
            ],
            "text/html": [
              "\n",
              "  <div id=\"df-2d44866d-2534-47a1-b28e-079642cc744e\" class=\"colab-df-container\">\n",
              "    <div>\n",
              "<style scoped>\n",
              "    .dataframe tbody tr th:only-of-type {\n",
              "        vertical-align: middle;\n",
              "    }\n",
              "\n",
              "    .dataframe tbody tr th {\n",
              "        vertical-align: top;\n",
              "    }\n",
              "\n",
              "    .dataframe thead th {\n",
              "        text-align: right;\n",
              "    }\n",
              "</style>\n",
              "<table border=\"1\" class=\"dataframe\">\n",
              "  <thead>\n",
              "    <tr style=\"text-align: right;\">\n",
              "      <th></th>\n",
              "      <th>TV</th>\n",
              "      <th>Radio</th>\n",
              "      <th>Newspaper</th>\n",
              "      <th>Sales</th>\n",
              "    </tr>\n",
              "  </thead>\n",
              "  <tbody>\n",
              "    <tr>\n",
              "      <th>0</th>\n",
              "      <td>230.1</td>\n",
              "      <td>37.8</td>\n",
              "      <td>69.2</td>\n",
              "      <td>22.1</td>\n",
              "    </tr>\n",
              "    <tr>\n",
              "      <th>1</th>\n",
              "      <td>44.5</td>\n",
              "      <td>39.3</td>\n",
              "      <td>45.1</td>\n",
              "      <td>10.4</td>\n",
              "    </tr>\n",
              "    <tr>\n",
              "      <th>2</th>\n",
              "      <td>17.2</td>\n",
              "      <td>45.9</td>\n",
              "      <td>69.3</td>\n",
              "      <td>9.3</td>\n",
              "    </tr>\n",
              "    <tr>\n",
              "      <th>3</th>\n",
              "      <td>151.5</td>\n",
              "      <td>41.3</td>\n",
              "      <td>58.5</td>\n",
              "      <td>18.5</td>\n",
              "    </tr>\n",
              "    <tr>\n",
              "      <th>4</th>\n",
              "      <td>180.8</td>\n",
              "      <td>10.8</td>\n",
              "      <td>58.4</td>\n",
              "      <td>12.9</td>\n",
              "    </tr>\n",
              "  </tbody>\n",
              "</table>\n",
              "</div>\n",
              "    <div class=\"colab-df-buttons\">\n",
              "\n",
              "  <div class=\"colab-df-container\">\n",
              "    <button class=\"colab-df-convert\" onclick=\"convertToInteractive('df-2d44866d-2534-47a1-b28e-079642cc744e')\"\n",
              "            title=\"Convert this dataframe to an interactive table.\"\n",
              "            style=\"display:none;\">\n",
              "\n",
              "  <svg xmlns=\"http://www.w3.org/2000/svg\" height=\"24px\" viewBox=\"0 -960 960 960\">\n",
              "    <path d=\"M120-120v-720h720v720H120Zm60-500h600v-160H180v160Zm220 220h160v-160H400v160Zm0 220h160v-160H400v160ZM180-400h160v-160H180v160Zm440 0h160v-160H620v160ZM180-180h160v-160H180v160Zm440 0h160v-160H620v160Z\"/>\n",
              "  </svg>\n",
              "    </button>\n",
              "\n",
              "  <style>\n",
              "    .colab-df-container {\n",
              "      display:flex;\n",
              "      gap: 12px;\n",
              "    }\n",
              "\n",
              "    .colab-df-convert {\n",
              "      background-color: #E8F0FE;\n",
              "      border: none;\n",
              "      border-radius: 50%;\n",
              "      cursor: pointer;\n",
              "      display: none;\n",
              "      fill: #1967D2;\n",
              "      height: 32px;\n",
              "      padding: 0 0 0 0;\n",
              "      width: 32px;\n",
              "    }\n",
              "\n",
              "    .colab-df-convert:hover {\n",
              "      background-color: #E2EBFA;\n",
              "      box-shadow: 0px 1px 2px rgba(60, 64, 67, 0.3), 0px 1px 3px 1px rgba(60, 64, 67, 0.15);\n",
              "      fill: #174EA6;\n",
              "    }\n",
              "\n",
              "    .colab-df-buttons div {\n",
              "      margin-bottom: 4px;\n",
              "    }\n",
              "\n",
              "    [theme=dark] .colab-df-convert {\n",
              "      background-color: #3B4455;\n",
              "      fill: #D2E3FC;\n",
              "    }\n",
              "\n",
              "    [theme=dark] .colab-df-convert:hover {\n",
              "      background-color: #434B5C;\n",
              "      box-shadow: 0px 1px 3px 1px rgba(0, 0, 0, 0.15);\n",
              "      filter: drop-shadow(0px 1px 2px rgba(0, 0, 0, 0.3));\n",
              "      fill: #FFFFFF;\n",
              "    }\n",
              "  </style>\n",
              "\n",
              "    <script>\n",
              "      const buttonEl =\n",
              "        document.querySelector('#df-2d44866d-2534-47a1-b28e-079642cc744e button.colab-df-convert');\n",
              "      buttonEl.style.display =\n",
              "        google.colab.kernel.accessAllowed ? 'block' : 'none';\n",
              "\n",
              "      async function convertToInteractive(key) {\n",
              "        const element = document.querySelector('#df-2d44866d-2534-47a1-b28e-079642cc744e');\n",
              "        const dataTable =\n",
              "          await google.colab.kernel.invokeFunction('convertToInteractive',\n",
              "                                                    [key], {});\n",
              "        if (!dataTable) return;\n",
              "\n",
              "        const docLinkHtml = 'Like what you see? Visit the ' +\n",
              "          '<a target=\"_blank\" href=https://colab.research.google.com/notebooks/data_table.ipynb>data table notebook</a>'\n",
              "          + ' to learn more about interactive tables.';\n",
              "        element.innerHTML = '';\n",
              "        dataTable['output_type'] = 'display_data';\n",
              "        await google.colab.output.renderOutput(dataTable, element);\n",
              "        const docLink = document.createElement('div');\n",
              "        docLink.innerHTML = docLinkHtml;\n",
              "        element.appendChild(docLink);\n",
              "      }\n",
              "    </script>\n",
              "  </div>\n",
              "\n",
              "\n",
              "    <div id=\"df-296ab8e3-d3a5-450c-af59-b35114c84422\">\n",
              "      <button class=\"colab-df-quickchart\" onclick=\"quickchart('df-296ab8e3-d3a5-450c-af59-b35114c84422')\"\n",
              "                title=\"Suggest charts\"\n",
              "                style=\"display:none;\">\n",
              "\n",
              "<svg xmlns=\"http://www.w3.org/2000/svg\" height=\"24px\"viewBox=\"0 0 24 24\"\n",
              "     width=\"24px\">\n",
              "    <g>\n",
              "        <path d=\"M19 3H5c-1.1 0-2 .9-2 2v14c0 1.1.9 2 2 2h14c1.1 0 2-.9 2-2V5c0-1.1-.9-2-2-2zM9 17H7v-7h2v7zm4 0h-2V7h2v10zm4 0h-2v-4h2v4z\"/>\n",
              "    </g>\n",
              "</svg>\n",
              "      </button>\n",
              "\n",
              "<style>\n",
              "  .colab-df-quickchart {\n",
              "      --bg-color: #E8F0FE;\n",
              "      --fill-color: #1967D2;\n",
              "      --hover-bg-color: #E2EBFA;\n",
              "      --hover-fill-color: #174EA6;\n",
              "      --disabled-fill-color: #AAA;\n",
              "      --disabled-bg-color: #DDD;\n",
              "  }\n",
              "\n",
              "  [theme=dark] .colab-df-quickchart {\n",
              "      --bg-color: #3B4455;\n",
              "      --fill-color: #D2E3FC;\n",
              "      --hover-bg-color: #434B5C;\n",
              "      --hover-fill-color: #FFFFFF;\n",
              "      --disabled-bg-color: #3B4455;\n",
              "      --disabled-fill-color: #666;\n",
              "  }\n",
              "\n",
              "  .colab-df-quickchart {\n",
              "    background-color: var(--bg-color);\n",
              "    border: none;\n",
              "    border-radius: 50%;\n",
              "    cursor: pointer;\n",
              "    display: none;\n",
              "    fill: var(--fill-color);\n",
              "    height: 32px;\n",
              "    padding: 0;\n",
              "    width: 32px;\n",
              "  }\n",
              "\n",
              "  .colab-df-quickchart:hover {\n",
              "    background-color: var(--hover-bg-color);\n",
              "    box-shadow: 0 1px 2px rgba(60, 64, 67, 0.3), 0 1px 3px 1px rgba(60, 64, 67, 0.15);\n",
              "    fill: var(--button-hover-fill-color);\n",
              "  }\n",
              "\n",
              "  .colab-df-quickchart-complete:disabled,\n",
              "  .colab-df-quickchart-complete:disabled:hover {\n",
              "    background-color: var(--disabled-bg-color);\n",
              "    fill: var(--disabled-fill-color);\n",
              "    box-shadow: none;\n",
              "  }\n",
              "\n",
              "  .colab-df-spinner {\n",
              "    border: 2px solid var(--fill-color);\n",
              "    border-color: transparent;\n",
              "    border-bottom-color: var(--fill-color);\n",
              "    animation:\n",
              "      spin 1s steps(1) infinite;\n",
              "  }\n",
              "\n",
              "  @keyframes spin {\n",
              "    0% {\n",
              "      border-color: transparent;\n",
              "      border-bottom-color: var(--fill-color);\n",
              "      border-left-color: var(--fill-color);\n",
              "    }\n",
              "    20% {\n",
              "      border-color: transparent;\n",
              "      border-left-color: var(--fill-color);\n",
              "      border-top-color: var(--fill-color);\n",
              "    }\n",
              "    30% {\n",
              "      border-color: transparent;\n",
              "      border-left-color: var(--fill-color);\n",
              "      border-top-color: var(--fill-color);\n",
              "      border-right-color: var(--fill-color);\n",
              "    }\n",
              "    40% {\n",
              "      border-color: transparent;\n",
              "      border-right-color: var(--fill-color);\n",
              "      border-top-color: var(--fill-color);\n",
              "    }\n",
              "    60% {\n",
              "      border-color: transparent;\n",
              "      border-right-color: var(--fill-color);\n",
              "    }\n",
              "    80% {\n",
              "      border-color: transparent;\n",
              "      border-right-color: var(--fill-color);\n",
              "      border-bottom-color: var(--fill-color);\n",
              "    }\n",
              "    90% {\n",
              "      border-color: transparent;\n",
              "      border-bottom-color: var(--fill-color);\n",
              "    }\n",
              "  }\n",
              "</style>\n",
              "\n",
              "      <script>\n",
              "        async function quickchart(key) {\n",
              "          const quickchartButtonEl =\n",
              "            document.querySelector('#' + key + ' button');\n",
              "          quickchartButtonEl.disabled = true;  // To prevent multiple clicks.\n",
              "          quickchartButtonEl.classList.add('colab-df-spinner');\n",
              "          try {\n",
              "            const charts = await google.colab.kernel.invokeFunction(\n",
              "                'suggestCharts', [key], {});\n",
              "          } catch (error) {\n",
              "            console.error('Error during call to suggestCharts:', error);\n",
              "          }\n",
              "          quickchartButtonEl.classList.remove('colab-df-spinner');\n",
              "          quickchartButtonEl.classList.add('colab-df-quickchart-complete');\n",
              "        }\n",
              "        (() => {\n",
              "          let quickchartButtonEl =\n",
              "            document.querySelector('#df-296ab8e3-d3a5-450c-af59-b35114c84422 button');\n",
              "          quickchartButtonEl.style.display =\n",
              "            google.colab.kernel.accessAllowed ? 'block' : 'none';\n",
              "        })();\n",
              "      </script>\n",
              "    </div>\n",
              "\n",
              "    </div>\n",
              "  </div>\n"
            ],
            "application/vnd.google.colaboratory.intrinsic+json": {
              "type": "dataframe",
              "variable_name": "df",
              "summary": "{\n  \"name\": \"df\",\n  \"rows\": 200,\n  \"fields\": [\n    {\n      \"column\": \"TV\",\n      \"properties\": {\n        \"dtype\": \"number\",\n        \"std\": 85.8542363149081,\n        \"min\": 0.7,\n        \"max\": 296.4,\n        \"num_unique_values\": 190,\n        \"samples\": [\n          287.6,\n          286.0,\n          78.2\n        ],\n        \"semantic_type\": \"\",\n        \"description\": \"\"\n      }\n    },\n    {\n      \"column\": \"Radio\",\n      \"properties\": {\n        \"dtype\": \"number\",\n        \"std\": 14.846809176168723,\n        \"min\": 0.0,\n        \"max\": 49.6,\n        \"num_unique_values\": 167,\n        \"samples\": [\n          8.2,\n          36.9,\n          44.5\n        ],\n        \"semantic_type\": \"\",\n        \"description\": \"\"\n      }\n    },\n    {\n      \"column\": \"Newspaper\",\n      \"properties\": {\n        \"dtype\": \"number\",\n        \"std\": 21.778620838522833,\n        \"min\": 0.3,\n        \"max\": 114.0,\n        \"num_unique_values\": 172,\n        \"samples\": [\n          22.3,\n          5.7,\n          17.0\n        ],\n        \"semantic_type\": \"\",\n        \"description\": \"\"\n      }\n    },\n    {\n      \"column\": \"Sales\",\n      \"properties\": {\n        \"dtype\": \"number\",\n        \"std\": 5.217456565710477,\n        \"min\": 1.6,\n        \"max\": 27.0,\n        \"num_unique_values\": 121,\n        \"samples\": [\n          11.4,\n          21.2,\n          12.9\n        ],\n        \"semantic_type\": \"\",\n        \"description\": \"\"\n      }\n    }\n  ]\n}"
            }
          },
          "metadata": {},
          "execution_count": 11
        }
      ]
    },
    {
      "cell_type": "markdown",
      "source": [
        "### **a. Realice el preprocesamiento de la información que incluya el análisis de datos faltantes,  tratamiento de outliers a nivel univariado y multivariado y escalamiento de datos para las  variables numéricas.**"
      ],
      "metadata": {
        "id": "uVT2R4Dyathc"
      }
    },
    {
      "cell_type": "code",
      "source": [
        "# Análisis de datos faltantes\n",
        "print(\"Datos faltantes por columna:\")\n",
        "print(df.isnull().sum())"
      ],
      "metadata": {
        "colab": {
          "base_uri": "https://localhost:8080/"
        },
        "id": "kFXLIQtJas28",
        "outputId": "73f33c50-8cd2-495a-9aa8-28e40f9bf56b"
      },
      "execution_count": 13,
      "outputs": [
        {
          "output_type": "stream",
          "name": "stdout",
          "text": [
            "Datos faltantes por columna:\n",
            "TV           0\n",
            "Radio        0\n",
            "Newspaper    0\n",
            "Sales        0\n",
            "dtype: int64\n"
          ]
        }
      ]
    },
    {
      "cell_type": "code",
      "source": [
        "# Análisis de outliers univariados con boxplots\n",
        "plt.figure(figsize=(12, 6))\n",
        "for i, column in enumerate(df.columns):\n",
        "    plt.subplot(1, 4, i+1)\n",
        "    sns.boxplot(y=df[column])\n",
        "    plt.title(f'Boxplot de {column}')\n",
        "plt.tight_layout()\n",
        "plt.show()"
      ],
      "metadata": {
        "colab": {
          "base_uri": "https://localhost:8080/",
          "height": 607
        },
        "id": "TvGHQwhpdGgU",
        "outputId": "479f7d7a-f12c-43ac-cd14-da84536a845d"
      },
      "execution_count": 14,
      "outputs": [
        {
          "output_type": "display_data",
          "data": {
            "text/plain": [
              "<Figure size 1200x600 with 4 Axes>"
            ],
            "image/png": "[encoded data removed]"
          },
          "metadata": {}
        }
      ]
    },
    {
      "cell_type": "code",
      "source": [
        "# Función para detectar outliers univariados con IQR\n",
        "def detectar_outliers_univariados(df):\n",
        "    outliers = {}\n",
        "    for col in df.columns:\n",
        "        Q1 = df[col].quantile(0.25)\n",
        "        Q3 = df[col].quantile(0.75)\n",
        "        IQR = Q3 - Q1\n",
        "        limite_inferior = Q1 - 1.5 * IQR\n",
        "        limite_superior = Q3 + 1.5 * IQR\n",
        "        outliers[col] = df[(df[col] < limite_inferior) | (df[col] > limite_superior)].index.tolist()\n",
        "    return outliers\n",
        "\n",
        "outliers_univariados = detectar_outliers_univariados(df)\n",
        "print(\"Outliers univariados:\")\n",
        "print(outliers_univariados)"
      ],
      "metadata": {
        "colab": {
          "base_uri": "https://localhost:8080/"
        },
        "id": "F90qSUDzdJAs",
        "outputId": "afc359dd-62ca-4652-d17d-26ab6c948589"
      },
      "execution_count": 15,
      "outputs": [
        {
          "output_type": "stream",
          "name": "stdout",
          "text": [
            "Outliers univariados:\n",
            "{'TV': [], 'Radio': [], 'Newspaper': [16, 101], 'Sales': []}\n"
          ]
        }
      ]
    },
    {
      "cell_type": "code",
      "source": [
        "# Función para detectar outliers multivariados con distancia de Mahalanobis\n",
        "def detectar_outliers_multivariados(df, threshold=3):\n",
        "    datos = df.values\n",
        "    media = np.mean(datos, axis=0)\n",
        "    covarianza = np.cov(datos.T)\n",
        "    inv_cov = np.linalg.inv(covarianza)\n",
        "    distancias = [mahalanobis(row, media, inv_cov) for row in datos]\n",
        "    return np.where(np.array(distancias) > threshold)[0]\n",
        "\n",
        "outliers_multivariados = detectar_outliers_multivariados(df)\n",
        "print(\"Outliers multivariados (Mahalanobis):\")\n",
        "print(outliers_multivariados)"
      ],
      "metadata": {
        "colab": {
          "base_uri": "https://localhost:8080/"
        },
        "id": "qk7f4xu5dMaU",
        "outputId": "16d956de-775e-4ec4-f2fd-77f5c0d81f4b"
      },
      "execution_count": 16,
      "outputs": [
        {
          "output_type": "stream",
          "name": "stdout",
          "text": [
            "Outliers multivariados (Mahalanobis):\n",
            "[  2   5  16  35  75 101 126 128 130 165 178]\n"
          ]
        }
      ]
    },
    {
      "cell_type": "code",
      "source": [
        "# Escalamiento de variables numéricas\n",
        "scaler = StandardScaler()\n",
        "df_escalado = pd.DataFrame(scaler.fit_transform(df), columns=df.columns)\n",
        "\n",
        "print(\"Primeras filas del DataFrame escalado:\")\n",
        "print(df_escalado.head())"
      ],
      "metadata": {
        "colab": {
          "base_uri": "https://localhost:8080/"
        },
        "id": "eikjuUAfdOZj",
        "outputId": "35651af2-351a-4a06-869f-115cecd1aa08"
      },
      "execution_count": 17,
      "outputs": [
        {
          "output_type": "stream",
          "name": "stdout",
          "text": [
            "Primeras filas del DataFrame escalado:\n",
            "         TV     Radio  Newspaper     Sales\n",
            "0  0.969852  0.981522   1.778945  1.552053\n",
            "1 -1.197376  1.082808   0.669579 -0.696046\n",
            "2 -1.516155  1.528463   1.783549 -0.907406\n",
            "3  0.052050  1.217855   1.286405  0.860330\n",
            "4  0.394182 -0.841614   1.281802 -0.215683\n"
          ]
        }
      ]
    },
    {
      "cell_type": "markdown",
      "source": [
        "### **b. Cree un algoritmo genético para seleccionar las mejores variables para un modelo de regresión  lineal incluyendo diversos valores para los parámetros: tamaño de la población, probabilidad  de cruce, probabilidad de mutación y número de generaciones.**"
      ],
      "metadata": {
        "id": "eig5Hq9Cdcfs"
      }
    },
    {
      "cell_type": "code",
      "source": [
        "import random\n",
        "import numpy as np\n",
        "import pandas as pd\n",
        "from sklearn.linear_model import LinearRegression\n",
        "from sklearn.model_selection import cross_val_score"
      ],
      "metadata": {
        "id": "V63Tv8Wadcw0"
      },
      "execution_count": 18,
      "outputs": []
    },
    {
      "cell_type": "code",
      "source": [
        "# Variables disponibles\n",
        "variables = ['TV', 'Radio', 'Newspaper']\n",
        "X = df[variables]\n",
        "y = df['Sales']"
      ],
      "metadata": {
        "id": "w4ZgUh2GdzFF"
      },
      "execution_count": 19,
      "outputs": []
    },
    {
      "cell_type": "code",
      "source": [
        "# Parámetros del algoritmo genético\n",
        "tam_poblacion = 10\n",
        "prob_cruce = 0.8\n",
        "prob_mutacion = 0.1\n",
        "num_generaciones = 20"
      ],
      "metadata": {
        "id": "n6Dydbitd32b"
      },
      "execution_count": 20,
      "outputs": []
    },
    {
      "cell_type": "code",
      "source": [
        "# Función de evaluación\n",
        "def evaluar(individuo):\n",
        "    seleccionadas = [variables[i] for i in range(len(individuo)) if individuo[i] == 1]\n",
        "    if len(seleccionadas) == 0:\n",
        "        return 0\n",
        "    modelo = LinearRegression()\n",
        "    scores = cross_val_score(modelo, X[seleccionadas], y, cv=5, scoring='r2')\n",
        "    return np.mean(scores)\n",
        "\n",
        "def crear_individuo():\n",
        "    return [random.choice([0, 1]) for _ in variables]\n",
        "\n",
        "def cruzar(padre1, padre2):\n",
        "    punto = random.randint(1, len(padre1) - 1)\n",
        "    hijo1 = padre1[:punto] + padre2[punto:]\n",
        "    hijo2 = padre2[:punto] + padre1[punto:]\n",
        "    return hijo1, hijo2\n",
        "\n",
        "# Mutación\n",
        "def mutar(individuo):\n",
        "    for i in range(len(individuo)):\n",
        "        if random.random() < prob_mutacion:\n",
        "            individuo[i] = 1 - individuo[i]\n",
        "    return individuo\n",
        "\n",
        "# Inicializar población\n",
        "poblacion = [crear_individuo() for _ in range(tam_poblacion)]\n"
      ],
      "metadata": {
        "id": "gtFqa8P1eIws"
      },
      "execution_count": 21,
      "outputs": []
    },
    {
      "cell_type": "code",
      "source": [
        "# Algoritmo genético principal\n",
        "mejor_individuo = None\n",
        "mejor_puntaje = -np.inf\n",
        "\n",
        "for generacion in range(num_generaciones):\n",
        "    puntajes = [evaluar(ind) for ind in poblacion]\n",
        "\n",
        "    max_index = np.argmax(puntajes)\n",
        "    if puntajes[max_index] > mejor_puntaje:\n",
        "        mejor_puntaje = puntajes[max_index]\n",
        "        mejor_individuo = poblacion[max_index]\n",
        "\n",
        "    padres = [poblacion[i] for i in np.argsort(puntajes)[-tam_poblacion//2:]]\n",
        "\n",
        "    nueva_poblacion = []\n",
        "    while len(nueva_poblacion) < tam_poblacion:\n",
        "        padre1, padre2 = random.sample(padres, 2)\n",
        "        if random.random() < prob_cruce:\n",
        "            hijo1, hijo2 = cruzar(padre1, padre2)\n",
        "        else:\n",
        "            hijo1, hijo2 = padre1[:], padre2[:]\n",
        "        nueva_poblacion.extend([mutar(hijo1), mutar(hijo2)])\n",
        "\n",
        "    poblacion = nueva_poblacion[:tam_poblacion]"
      ],
      "metadata": {
        "id": "pnqKY63xeS7k"
      },
      "execution_count": 22,
      "outputs": []
    },
    {
      "cell_type": "code",
      "source": [
        "# Resultado final\n",
        "mejores_variables = [variables[i] for i in range(len(variables)) if mejor_individuo[i] == 1]\n",
        "print(\"Mejores variables seleccionadas:\", mejores_variables)\n",
        "print(\"Mejor score R² promedio:\", round(mejor_puntaje, 4))"
      ],
      "metadata": {
        "colab": {
          "base_uri": "https://localhost:8080/"
        },
        "id": "nwmhw7-PedJ8",
        "outputId": "67084107-af2d-4e0a-a760-8c6f2b246237"
      },
      "execution_count": 23,
      "outputs": [
        {
          "output_type": "stream",
          "name": "stdout",
          "text": [
            "Mejores variables seleccionadas: ['TV', 'Radio']\n",
            "Mejor score R² promedio: 0.8893\n"
          ]
        }
      ]
    },
    {
      "cell_type": "markdown",
      "source": [
        "### **c. Realice un gráfico de la evolución del coeficiente de determinación (R2), seleccione las mejores  variables, cree un modelo de regresión lineal con base a estas tomando un 80% de datos para  el entrenamiento y mida su desempeño con el R2.**"
      ],
      "metadata": {
        "id": "FxOaAXvQef5s"
      }
    },
    {
      "cell_type": "code",
      "source": [
        "import matplotlib.pyplot as plt\n",
        "from sklearn.model_selection import train_test_split\n",
        "from sklearn.metrics import r2_score"
      ],
      "metadata": {
        "id": "tPB4IY4Ce2lc"
      },
      "execution_count": 24,
      "outputs": []
    },
    {
      "cell_type": "code",
      "source": [
        "# Guardar evolución del R² en cada generación\n",
        "evolucion_r2 = []"
      ],
      "metadata": {
        "id": "YgJ7ylrsfBfU"
      },
      "execution_count": 25,
      "outputs": []
    },
    {
      "cell_type": "code",
      "source": [
        "# Reiniciar población\n",
        "poblacion = [crear_individuo() for _ in range(tam_poblacion)]\n",
        "mejor_individuo = None\n",
        "mejor_puntaje = -np.inf\n",
        "\n",
        "for generacion in range(num_generaciones):\n",
        "    puntajes = [evaluar(ind) for ind in poblacion]\n",
        "    evolucion_r2.append(max(puntajes))\n",
        "    max_index = np.argmax(puntajes)\n",
        "    if puntajes[max_index] > mejor_puntaje:\n",
        "        mejor_puntaje = puntajes[max_index]\n",
        "        mejor_individuo = poblacion[max_index]\n",
        "\n",
        "    padres = [poblacion[i] for i in np.argsort(puntajes)[-tam_poblacion//2:]]\n",
        "    nueva_poblacion = []\n",
        "    while len(nueva_poblacion) < tam_poblacion:\n",
        "        padre1, padre2 = random.sample(padres, 2)\n",
        "        if random.random() < prob_cruce:\n",
        "            hijo1, hijo2 = cruzar(padre1, padre2)\n",
        "        else:\n",
        "            hijo1, hijo2 = padre1[:], padre2[:]\n",
        "        nueva_poblacion.extend([mutar(hijo1), mutar(hijo2)])\n",
        "    poblacion = nueva_poblacion[:tam_poblacion]"
      ],
      "metadata": {
        "id": "tzf12BwffDBM"
      },
      "execution_count": 26,
      "outputs": []
    },
    {
      "cell_type": "code",
      "source": [
        "# Gráfico de evolución del R²\n",
        "plt.figure(figsize=(8, 4))\n",
        "plt.plot(range(1, num_generaciones + 1), evolucion_r2, marker='o')\n",
        "plt.title(\"Evolución del R² por Generación\")\n",
        "plt.xlabel(\"Generación\")\n",
        "plt.ylabel(\"Mejor R²\")\n",
        "plt.grid(True)\n",
        "plt.show()"
      ],
      "metadata": {
        "colab": {
          "base_uri": "https://localhost:8080/",
          "height": 411
        },
        "id": "NBRkIuhEfGhs",
        "outputId": "d39d6726-4eff-4aff-8b55-ef4952b5265b"
      },
      "execution_count": 27,
      "outputs": [
        {
          "output_type": "display_data",
          "data": {
            "text/plain": [
              "<Figure size 800x400 with 1 Axes>"
            ],
            "image/png": "[encoded data removed]"
          },
          "metadata": {}
        }
      ]
    },
    {
      "cell_type": "code",
      "source": [
        "\n",
        "# Selección de las mejores variables\n",
        "mejores_variables = [variables[i] for i in range(len(variables)) if mejor_individuo[i] == 1]\n",
        "print(\"Mejores variables seleccionadas:\", mejores_variables)"
      ],
      "metadata": {
        "colab": {
          "base_uri": "https://localhost:8080/"
        },
        "id": "71K_EIRGfQHk",
        "outputId": "0838c406-fa3c-4f89-d2d4-cd46272fd7cc"
      },
      "execution_count": 28,
      "outputs": [
        {
          "output_type": "stream",
          "name": "stdout",
          "text": [
            "Mejores variables seleccionadas: ['TV', 'Radio']\n"
          ]
        }
      ]
    },
    {
      "cell_type": "code",
      "source": [
        "# Modelo de regresión lineal y evaluación con 80/20 split\n",
        "X_final = df[mejores_variables]\n",
        "y_final = df['Sales']"
      ],
      "metadata": {
        "id": "6Dz5FJkOfXWU"
      },
      "execution_count": 29,
      "outputs": []
    },
    {
      "cell_type": "code",
      "source": [
        "# División 80/20\n",
        "X_train, X_test, y_train, y_test = train_test_split(X_final, y_final, test_size=0.2, random_state=42)\n",
        "\n",
        "# Entrenar modelo\n",
        "modelo_final = LinearRegression()\n",
        "modelo_final.fit(X_train, y_train)\n",
        "\n",
        "# Predecir y calcular R²\n",
        "y_pred = modelo_final.predict(X_test)\n",
        "r2_final = r2_score(y_test, y_pred)\n",
        "\n",
        "print(f\"R² en el conjunto de prueba: {round(r2_final, 4)}\")"
      ],
      "metadata": {
        "colab": {
          "base_uri": "https://localhost:8080/"
        },
        "id": "ay8kIYuwfah8",
        "outputId": "2cd98fd4-87f0-45fd-fb70-abd4ebfc40f5"
      },
      "execution_count": 30,
      "outputs": [
        {
          "output_type": "stream",
          "name": "stdout",
          "text": [
            "R² en el conjunto de prueba: 0.9006\n"
          ]
        }
      ]
    }
  ]
}